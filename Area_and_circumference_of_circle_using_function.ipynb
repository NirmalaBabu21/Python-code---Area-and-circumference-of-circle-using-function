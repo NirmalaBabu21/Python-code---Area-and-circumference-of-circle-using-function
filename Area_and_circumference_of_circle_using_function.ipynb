{
  "nbformat": 4,
  "nbformat_minor": 0,
  "metadata": {
    "colab": {
      "name": "Area and circumference of circle using function.ipynb",
      "provenance": []
    },
    "kernelspec": {
      "name": "python3",
      "display_name": "Python 3"
    },
    "language_info": {
      "name": "python"
    }
  },
  "cells": [
    {
      "cell_type": "code",
      "execution_count": null,
      "metadata": {
        "colab": {
          "base_uri": "https://localhost:8080/"
        },
        "id": "eWbLbkhUpUY6",
        "outputId": "e7f338e1-c8f1-4b49-ef71-e9ff50814812"
      },
      "outputs": [
        {
          "output_type": "stream",
          "name": "stdout",
          "text": [
            "ENTER THE RADIUS:8\n",
            "Area: 201.06192982974676 Circumference: 50.26548245743669\n"
          ]
        }
      ],
      "source": [
        "def area (r):\n",
        "  a= pi*r*r\n",
        "  return(a)\n",
        "\n",
        "def circumference (r):\n",
        "  c = 2*pi*r\n",
        "  return(c)\n",
        "\n",
        "r= int (input(\"ENTER THE RADIUS:\"))\n",
        "from  math import pi\n",
        "ar= area (r)\n",
        "cr = circumference (r)\n",
        "print(\"Area:\" , ar, \"Circumference:\",cr)"
      ]
    }
  ]
}